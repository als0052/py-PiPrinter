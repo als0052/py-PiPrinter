{
 "cells": [
  {
   "cell_type": "code",
   "execution_count": 1,
   "metadata": {},
   "outputs": [],
   "source": [
    "from pathlib import Path\n",
    "import numpy as np\n",
    "import os"
   ]
  },
  {
   "cell_type": "code",
   "execution_count": 2,
   "metadata": {},
   "outputs": [],
   "source": [
    "filename = r\"C:\\Users\\asmelser\\Documents\\IdeaProjects-dev\\PiDay\\all_the_pi\\pi_printer_12 x 999993.txt\"\n",
    "filename = Path(filename)\n",
    "\n",
    "output_filename = filename.stem + \"_white_spaced.txt\"\n",
    "output_filename = os.path.join(filename.parent, output_filename)"
   ]
  },
  {
   "cell_type": "code",
   "execution_count": 3,
   "metadata": {},
   "outputs": [],
   "source": [
    "# Add a blank line every 10 lines\n",
    "with open(filename, 'r') as in_file, open(output_filename, 'w') as out_file:\n",
    "    input_file = in_file.readlines()\n",
    "    for i, line in enumerate(input_file):\n",
    "        out_file.write(line)\n",
    "        if np.mod(i+1, 10) == 0:\n",
    "            out_file.write(\"\\n\")"
   ]
  },
  {
   "cell_type": "code",
   "execution_count": null,
   "metadata": {},
   "outputs": [],
   "source": []
  }
 ],
 "metadata": {
  "kernelspec": {
   "display_name": "Python 3",
   "language": "python",
   "name": "python3"
  },
  "language_info": {
   "codemirror_mode": {
    "name": "ipython",
    "version": 3
   },
   "file_extension": ".py",
   "mimetype": "text/x-python",
   "name": "python",
   "nbconvert_exporter": "python",
   "pygments_lexer": "ipython3",
   "version": "3.7.4"
  }
 },
 "nbformat": 4,
 "nbformat_minor": 2
}
